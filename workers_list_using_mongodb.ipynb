{
  "cells": [
    {
      "cell_type": "markdown",
      "metadata": {
        "id": "QxDhTyclvzuz"
      },
      "source": [
        "# **Workers List Using Mongodb**"
      ]
    },
    {
      "cell_type": "code",
      "execution_count": null,
      "metadata": {
        "id": "Gqxn8n27vzu3",
        "outputId": "7cf9a92e-d0d2-49d8-cfce-532dccb4e94a"
      },
      "outputs": [
        {
          "name": "stdout",
          "output_type": "stream",
          "text": [
            "Mongo version 3.12.0\n"
          ]
        }
      ],
      "source": [
        "#required imports\n",
        "import os\n",
        "import json\n",
        "import datetime\n",
        "import pymongo\n",
        "import pprint\n",
        "import pandas as pd\n",
        "import numpy as np\n",
        "from pymongo import MongoClient\n",
        "print('Mongo version', pymongo.__version__)"
      ]
    },
    {
      "cell_type": "code",
      "execution_count": null,
      "metadata": {
        "id": "UdtVCmGGnjsZ"
      },
      "outputs": [],
      "source": [
        "client = MongoClient('localhost', 27017)\n",
        "db = client.assignment1"
      ]
    },
    {
      "cell_type": "code",
      "execution_count": null,
      "metadata": {
        "id": "5VDnAuj6vzu7"
      },
      "outputs": [],
      "source": [
        "# Let's delete any existing collections in our database\n",
        "db.workplace.drop()\n",
        "db.address.drop()\n",
        "db.employee.drop()\n",
        "\n",
        "# Import our files into our three collections\n",
        "with open('Data/Employee.json') as f:\n",
        "    db.employee.insert_many(json.load(f))\n",
        "with open('Data/Workplace.json') as f:\n",
        "    db.workplace.insert_many(json.load(f))\n",
        "with open('Data/Address.json') as f:\n",
        "    db.address.insert_many(json.load(f))"
      ]
    },
    {
      "cell_type": "markdown",
      "metadata": {
        "id": "3lL-abBuvzu9"
      },
      "source": [
        "#### The address collection contains employee from different ages and interests.  Perform a simple query to list all employees that are less than or equal to 50 and like Cooking."
      ]
    },
    {
      "cell_type": "code",
      "execution_count": null,
      "metadata": {
        "id": "gqB8V6Xbnjsf",
        "outputId": "b757f86e-0d69-4e8c-e65d-4415e5a9cd57"
      },
      "outputs": [
        {
          "name": "stdout",
          "output_type": "stream",
          "text": [
            "{'_id': '9f39da36-82cc-4353-ab90-d616105fa7c1',\n",
            " 'address_id': 'b6c0b50a-d0e3-43bf-a2a4-8d4674c2a7e8',\n",
            " 'age': 40,\n",
            " 'email': 'ih@ri.ro',\n",
            " 'firstname': 'Emilie',\n",
            " 'interests': ['Bowling', 'Cooking', 'Golf', 'Swimming'],\n",
            " 'lastname': 'Woods',\n",
            " 'workplace_id': 'a32bf18d-e0e5-48f2-a851-aa49c80f9460'}\n"
          ]
        }
      ],
      "source": [
        "pprint.pprint(client.assignment1.employee.find_one())"
      ]
    },
    {
      "cell_type": "code",
      "execution_count": null,
      "metadata": {
        "id": "nRLVQgQQvzu9",
        "outputId": "78e0ed2a-a578-4e7b-ead5-7e0629199d7c"
      },
      "outputs": [
        {
          "data": {
            "text/html": [
              "<div>\n",
              "<style scoped>\n",
              "    .dataframe tbody tr th:only-of-type {\n",
              "        vertical-align: middle;\n",
              "    }\n",
              "\n",
              "    .dataframe tbody tr th {\n",
              "        vertical-align: top;\n",
              "    }\n",
              "\n",
              "    .dataframe thead th {\n",
              "        text-align: right;\n",
              "    }\n",
              "</style>\n",
              "<table border=\"1\" class=\"dataframe\">\n",
              "  <thead>\n",
              "    <tr style=\"text-align: right;\">\n",
              "      <th></th>\n",
              "      <th>_id</th>\n",
              "      <th>firstname</th>\n",
              "      <th>lastname</th>\n",
              "      <th>age</th>\n",
              "      <th>email</th>\n",
              "      <th>interests</th>\n",
              "      <th>address_id</th>\n",
              "      <th>workplace_id</th>\n",
              "    </tr>\n",
              "  </thead>\n",
              "  <tbody>\n",
              "    <tr>\n",
              "      <th>0</th>\n",
              "      <td>9f39da36-82cc-4353-ab90-d616105fa7c1</td>\n",
              "      <td>Emilie</td>\n",
              "      <td>Woods</td>\n",
              "      <td>40</td>\n",
              "      <td>ih@ri.ro</td>\n",
              "      <td>[Bowling, Cooking, Golf, Swimming]</td>\n",
              "      <td>b6c0b50a-d0e3-43bf-a2a4-8d4674c2a7e8</td>\n",
              "      <td>a32bf18d-e0e5-48f2-a851-aa49c80f9460</td>\n",
              "    </tr>\n",
              "    <tr>\n",
              "      <th>1</th>\n",
              "      <td>af27265e-6639-49f2-991e-193275a4111a</td>\n",
              "      <td>Thomas</td>\n",
              "      <td>Patterson</td>\n",
              "      <td>18</td>\n",
              "      <td>sug@gon.bf</td>\n",
              "      <td>[Cooking, Cricket, Tennis, Swimming, Fishing]</td>\n",
              "      <td>64fd714d-e219-4e45-888b-cc2238a8bd0b</td>\n",
              "      <td>5345fcb9-6297-4b9f-aa15-cbee8460f28f</td>\n",
              "    </tr>\n",
              "    <tr>\n",
              "      <th>2</th>\n",
              "      <td>00289d48-bad8-4b73-a359-a1a1f05c96e2</td>\n",
              "      <td>Sophia</td>\n",
              "      <td>Flores</td>\n",
              "      <td>22</td>\n",
              "      <td>ra@dupnejuk.nr</td>\n",
              "      <td>[Hiking, Soccer, Bowling, Rubgy, Cooking, Danc...</td>\n",
              "      <td>8a430805-00b8-40a6-bd93-c950b544a83b</td>\n",
              "      <td>b12cd444-e65b-4bc2-8cf6-2dbe854a627b</td>\n",
              "    </tr>\n",
              "    <tr>\n",
              "      <th>3</th>\n",
              "      <td>da76e52b-b3db-4fc0-b0d6-435d1aed0cd9</td>\n",
              "      <td>Ollie</td>\n",
              "      <td>Barnett</td>\n",
              "      <td>25</td>\n",
              "      <td>ro@nemaw.et</td>\n",
              "      <td>[Cooking, Bowling, Dancing]</td>\n",
              "      <td>5d3eacc4-d1d8-459b-973c-3bc71feacf50</td>\n",
              "      <td>cb795afb-8dc3-482f-b3a0-14229a280afa</td>\n",
              "    </tr>\n",
              "    <tr>\n",
              "      <th>4</th>\n",
              "      <td>51643cd6-49bb-45d5-bd6e-717c62bb2869</td>\n",
              "      <td>James</td>\n",
              "      <td>Wilkins</td>\n",
              "      <td>27</td>\n",
              "      <td>hutfardu@vicbiri.gb</td>\n",
              "      <td>[Rubgy, Tennis, Cricket, Cooking]</td>\n",
              "      <td>3f10d9f7-57ef-40e1-a97d-d2ee53aa2c6e</td>\n",
              "      <td>cb795afb-8dc3-482f-b3a0-14229a280afa</td>\n",
              "    </tr>\n",
              "    <tr>\n",
              "      <th>5</th>\n",
              "      <td>f073a705-6546-4375-adb5-b224871776ef</td>\n",
              "      <td>Aaron</td>\n",
              "      <td>Carr</td>\n",
              "      <td>25</td>\n",
              "      <td>fekegim@lucul.tp</td>\n",
              "      <td>[Cooking]</td>\n",
              "      <td>f4e59d7e-ea40-442d-87be-106e3c46a554</td>\n",
              "      <td>b2a2844d-aeab-4602-b74c-01bf3b8e9c78</td>\n",
              "    </tr>\n",
              "    <tr>\n",
              "      <th>6</th>\n",
              "      <td>457ef68c-9651-4925-bca0-15e246661d19</td>\n",
              "      <td>Alta</td>\n",
              "      <td>Sharp</td>\n",
              "      <td>34</td>\n",
              "      <td>jus@goal.bn</td>\n",
              "      <td>[Cricket, Cycling, Rubgy, Golf, Cooking, Dancing]</td>\n",
              "      <td>5e97658e-5809-41b8-a088-eddbd81f86a7</td>\n",
              "      <td>b2a2844d-aeab-4602-b74c-01bf3b8e9c78</td>\n",
              "    </tr>\n",
              "    <tr>\n",
              "      <th>7</th>\n",
              "      <td>840184a3-4c4d-4b15-8813-30fca6e7827b</td>\n",
              "      <td>Delia</td>\n",
              "      <td>Douglas</td>\n",
              "      <td>36</td>\n",
              "      <td>me@wak.ne</td>\n",
              "      <td>[Cricket, Cooking, Hiking, Dancing, Tennis]</td>\n",
              "      <td>456e18ae-c2f8-443e-899d-f2b893499695</td>\n",
              "      <td>b2a2844d-aeab-4602-b74c-01bf3b8e9c78</td>\n",
              "    </tr>\n",
              "    <tr>\n",
              "      <th>8</th>\n",
              "      <td>6157dc3b-ee2d-463a-b62b-1cd4eed7d575</td>\n",
              "      <td>Dominic</td>\n",
              "      <td>Wade</td>\n",
              "      <td>48</td>\n",
              "      <td>co@pog.nz</td>\n",
              "      <td>[Cycling, Dancing, Cooking]</td>\n",
              "      <td>8d162eb9-eefc-4b7e-bcad-6fb7a02b15b0</td>\n",
              "      <td>cb795afb-8dc3-482f-b3a0-14229a280afa</td>\n",
              "    </tr>\n",
              "    <tr>\n",
              "      <th>9</th>\n",
              "      <td>cc3e389d-be0d-467a-ba70-7c84f6504911</td>\n",
              "      <td>Myrtle</td>\n",
              "      <td>Little</td>\n",
              "      <td>36</td>\n",
              "      <td>saj@far.zm</td>\n",
              "      <td>[Cooking, Cycling, Hiking, Rubgy, Bowling, Dan...</td>\n",
              "      <td>0d3a90d5-11bd-4f96-91ba-7e7ef80888f0</td>\n",
              "      <td>2b87eb84-e5b4-4f2c-9e13-dc3ba20a7f7f</td>\n",
              "    </tr>\n",
              "    <tr>\n",
              "      <th>10</th>\n",
              "      <td>c2bf0e3f-e3de-41de-b745-c5b70571dd3a</td>\n",
              "      <td>Jordan</td>\n",
              "      <td>Roberson</td>\n",
              "      <td>29</td>\n",
              "      <td>co@mahdo.ca</td>\n",
              "      <td>[Swimming, Cooking]</td>\n",
              "      <td>7edd78a4-c4e6-484a-bf2f-ecad5c4c506b</td>\n",
              "      <td>cb795afb-8dc3-482f-b3a0-14229a280afa</td>\n",
              "    </tr>\n",
              "    <tr>\n",
              "      <th>11</th>\n",
              "      <td>4bc070ca-f849-4eeb-8ab2-98fe3c0861c0</td>\n",
              "      <td>Francis</td>\n",
              "      <td>Harris</td>\n",
              "      <td>38</td>\n",
              "      <td>pa@sodej.ck</td>\n",
              "      <td>[Dancing, Swimming, Cooking, Bowling, Cycling]</td>\n",
              "      <td>fc607f68-81c8-4ca8-8a9e-30239ccae40f</td>\n",
              "      <td>2b87eb84-e5b4-4f2c-9e13-dc3ba20a7f7f</td>\n",
              "    </tr>\n",
              "    <tr>\n",
              "      <th>12</th>\n",
              "      <td>66894dba-4ff0-4545-b7cc-eb6a5bd551c5</td>\n",
              "      <td>Clara</td>\n",
              "      <td>Butler</td>\n",
              "      <td>49</td>\n",
              "      <td>do@womjip.by</td>\n",
              "      <td>[Soccer, Cooking, Cycling]</td>\n",
              "      <td>4dcebe6e-0787-4158-9744-3d721098cec4</td>\n",
              "      <td>50275ad1-8140-4e79-8818-21793e3eb0a3</td>\n",
              "    </tr>\n",
              "    <tr>\n",
              "      <th>13</th>\n",
              "      <td>581f59a2-ff4c-407e-b58f-e4f292208928</td>\n",
              "      <td>Rena</td>\n",
              "      <td>Johnson</td>\n",
              "      <td>33</td>\n",
              "      <td>vasberet@his.nz</td>\n",
              "      <td>[Cycling, Swimming, Soccer, Cooking]</td>\n",
              "      <td>1cf24906-c700-41bb-a4c8-bba3c3ae30d9</td>\n",
              "      <td>2b87eb84-e5b4-4f2c-9e13-dc3ba20a7f7f</td>\n",
              "    </tr>\n",
              "    <tr>\n",
              "      <th>14</th>\n",
              "      <td>b2a2ae86-f4f6-4da5-ade6-ee1cd135daf3</td>\n",
              "      <td>Gavin</td>\n",
              "      <td>Conner</td>\n",
              "      <td>49</td>\n",
              "      <td>ah@jopah.uz</td>\n",
              "      <td>[Rubgy, Cooking, Bowling]</td>\n",
              "      <td>ef5a17a2-6f11-49b8-a0fd-e0bddc56f185</td>\n",
              "      <td>50275ad1-8140-4e79-8818-21793e3eb0a3</td>\n",
              "    </tr>\n",
              "    <tr>\n",
              "      <th>15</th>\n",
              "      <td>2bfc0479-cb15-46e1-94fa-801404791b21</td>\n",
              "      <td>Peter</td>\n",
              "      <td>Jimenez</td>\n",
              "      <td>37</td>\n",
              "      <td>usope@tega.bh</td>\n",
              "      <td>[Cooking, Swimming, Cricket]</td>\n",
              "      <td>77ce0c50-afd6-47e8-86d7-b1b372e8deb2</td>\n",
              "      <td>cb795afb-8dc3-482f-b3a0-14229a280afa</td>\n",
              "    </tr>\n",
              "  </tbody>\n",
              "</table>\n",
              "</div>"
            ],
            "text/plain": [
              "                                     _id firstname   lastname  age  \\\n",
              "0   9f39da36-82cc-4353-ab90-d616105fa7c1    Emilie      Woods   40   \n",
              "1   af27265e-6639-49f2-991e-193275a4111a    Thomas  Patterson   18   \n",
              "2   00289d48-bad8-4b73-a359-a1a1f05c96e2    Sophia     Flores   22   \n",
              "3   da76e52b-b3db-4fc0-b0d6-435d1aed0cd9     Ollie    Barnett   25   \n",
              "4   51643cd6-49bb-45d5-bd6e-717c62bb2869     James    Wilkins   27   \n",
              "5   f073a705-6546-4375-adb5-b224871776ef     Aaron       Carr   25   \n",
              "6   457ef68c-9651-4925-bca0-15e246661d19      Alta      Sharp   34   \n",
              "7   840184a3-4c4d-4b15-8813-30fca6e7827b     Delia    Douglas   36   \n",
              "8   6157dc3b-ee2d-463a-b62b-1cd4eed7d575   Dominic       Wade   48   \n",
              "9   cc3e389d-be0d-467a-ba70-7c84f6504911    Myrtle     Little   36   \n",
              "10  c2bf0e3f-e3de-41de-b745-c5b70571dd3a    Jordan   Roberson   29   \n",
              "11  4bc070ca-f849-4eeb-8ab2-98fe3c0861c0   Francis     Harris   38   \n",
              "12  66894dba-4ff0-4545-b7cc-eb6a5bd551c5     Clara     Butler   49   \n",
              "13  581f59a2-ff4c-407e-b58f-e4f292208928      Rena    Johnson   33   \n",
              "14  b2a2ae86-f4f6-4da5-ade6-ee1cd135daf3     Gavin     Conner   49   \n",
              "15  2bfc0479-cb15-46e1-94fa-801404791b21     Peter    Jimenez   37   \n",
              "\n",
              "                  email                                          interests  \\\n",
              "0              ih@ri.ro                 [Bowling, Cooking, Golf, Swimming]   \n",
              "1            sug@gon.bf      [Cooking, Cricket, Tennis, Swimming, Fishing]   \n",
              "2        ra@dupnejuk.nr  [Hiking, Soccer, Bowling, Rubgy, Cooking, Danc...   \n",
              "3           ro@nemaw.et                        [Cooking, Bowling, Dancing]   \n",
              "4   hutfardu@vicbiri.gb                  [Rubgy, Tennis, Cricket, Cooking]   \n",
              "5      fekegim@lucul.tp                                          [Cooking]   \n",
              "6           jus@goal.bn  [Cricket, Cycling, Rubgy, Golf, Cooking, Dancing]   \n",
              "7             me@wak.ne        [Cricket, Cooking, Hiking, Dancing, Tennis]   \n",
              "8             co@pog.nz                        [Cycling, Dancing, Cooking]   \n",
              "9            saj@far.zm  [Cooking, Cycling, Hiking, Rubgy, Bowling, Dan...   \n",
              "10          co@mahdo.ca                                [Swimming, Cooking]   \n",
              "11          pa@sodej.ck     [Dancing, Swimming, Cooking, Bowling, Cycling]   \n",
              "12         do@womjip.by                         [Soccer, Cooking, Cycling]   \n",
              "13      vasberet@his.nz               [Cycling, Swimming, Soccer, Cooking]   \n",
              "14          ah@jopah.uz                          [Rubgy, Cooking, Bowling]   \n",
              "15        usope@tega.bh                       [Cooking, Swimming, Cricket]   \n",
              "\n",
              "                              address_id                          workplace_id  \n",
              "0   b6c0b50a-d0e3-43bf-a2a4-8d4674c2a7e8  a32bf18d-e0e5-48f2-a851-aa49c80f9460  \n",
              "1   64fd714d-e219-4e45-888b-cc2238a8bd0b  5345fcb9-6297-4b9f-aa15-cbee8460f28f  \n",
              "2   8a430805-00b8-40a6-bd93-c950b544a83b  b12cd444-e65b-4bc2-8cf6-2dbe854a627b  \n",
              "3   5d3eacc4-d1d8-459b-973c-3bc71feacf50  cb795afb-8dc3-482f-b3a0-14229a280afa  \n",
              "4   3f10d9f7-57ef-40e1-a97d-d2ee53aa2c6e  cb795afb-8dc3-482f-b3a0-14229a280afa  \n",
              "5   f4e59d7e-ea40-442d-87be-106e3c46a554  b2a2844d-aeab-4602-b74c-01bf3b8e9c78  \n",
              "6   5e97658e-5809-41b8-a088-eddbd81f86a7  b2a2844d-aeab-4602-b74c-01bf3b8e9c78  \n",
              "7   456e18ae-c2f8-443e-899d-f2b893499695  b2a2844d-aeab-4602-b74c-01bf3b8e9c78  \n",
              "8   8d162eb9-eefc-4b7e-bcad-6fb7a02b15b0  cb795afb-8dc3-482f-b3a0-14229a280afa  \n",
              "9   0d3a90d5-11bd-4f96-91ba-7e7ef80888f0  2b87eb84-e5b4-4f2c-9e13-dc3ba20a7f7f  \n",
              "10  7edd78a4-c4e6-484a-bf2f-ecad5c4c506b  cb795afb-8dc3-482f-b3a0-14229a280afa  \n",
              "11  fc607f68-81c8-4ca8-8a9e-30239ccae40f  2b87eb84-e5b4-4f2c-9e13-dc3ba20a7f7f  \n",
              "12  4dcebe6e-0787-4158-9744-3d721098cec4  50275ad1-8140-4e79-8818-21793e3eb0a3  \n",
              "13  1cf24906-c700-41bb-a4c8-bba3c3ae30d9  2b87eb84-e5b4-4f2c-9e13-dc3ba20a7f7f  \n",
              "14  ef5a17a2-6f11-49b8-a0fd-e0bddc56f185  50275ad1-8140-4e79-8818-21793e3eb0a3  \n",
              "15  77ce0c50-afd6-47e8-86d7-b1b372e8deb2  cb795afb-8dc3-482f-b3a0-14229a280afa  "
            ]
          },
          "execution_count": 5,
          "metadata": {},
          "output_type": "execute_result"
        }
      ],
      "source": [
        "cursor = db.employee.find({'age': {'$lte': 50}, 'interests': 'Cooking'})\n",
        "\n",
        "# display results in a dataframe so that we can display results in a pretty table\n",
        "pd.DataFrame(list(cursor))"
      ]
    },
    {
      "cell_type": "markdown",
      "metadata": {
        "id": "HcLWsbNmvzvD"
      },
      "source": [
        "#### Insert a new Employee with the following properties:\n",
        "\n",
        "* First Name: Jake\n",
        "* Last Name: Sample\n",
        "* Email: jakesample@email.com\n",
        "* Age: 26\n",
        "* Interest: Biking, Hiking\n",
        "\n",
        "Also, this employee works for 'Union Planters Corp' and lives at '573 Wojhas Square, Victoria'.\n",
        "Verify that the insert succeeded and display the generated employees _id attribute."
      ]
    },
    {
      "cell_type": "code",
      "execution_count": null,
      "metadata": {
        "id": "At7EoGtLvzvE",
        "outputId": "249b5654-1751-40d1-81b5-b356ec7e38f0"
      },
      "outputs": [
        {
          "data": {
            "text/plain": [
              "{'_id': '91b5b7b3-2309-4e8a-8247-cd66d626ef0c',\n",
              " 'address': '573 Wojhas Square',\n",
              " 'postalcode': 'A7D 5A3',\n",
              " 'city': 'Victoria',\n",
              " 'province': 'BC'}"
            ]
          },
          "execution_count": 6,
          "metadata": {},
          "output_type": "execute_result"
        }
      ],
      "source": [
        "js_address = db.address.find_one({'address': '573 Wojhas Square', 'city': 'Victoria'})\n",
        "js_address"
      ]
    },
    {
      "cell_type": "code",
      "execution_count": null,
      "metadata": {
        "id": "9XskJirhEzYA",
        "outputId": "cc77f40a-7862-45ff-df29-4a2ecd7e777a"
      },
      "outputs": [
        {
          "data": {
            "text/plain": [
              "{'_id': '5345fcb9-6297-4b9f-aa15-cbee8460f28f',\n",
              " 'name': 'Union Planters Corp',\n",
              " 'website': 'http://www.unionplanternscorp.com',\n",
              " 'industry': 'Aerospace',\n",
              " 'address_id': '9949fe3b-99ec-4485-b91d-823925db7d28'}"
            ]
          },
          "execution_count": 7,
          "metadata": {},
          "output_type": "execute_result"
        }
      ],
      "source": [
        "js_workplace = db.workplace.find_one({'name': 'Union Planters Corp'})\n",
        "js_workplace"
      ]
    },
    {
      "cell_type": "code",
      "execution_count": null,
      "metadata": {
        "id": "wk74FoYuEzYB"
      },
      "outputs": [],
      "source": [
        "employee_id = db.employee.insert_one({\n",
        "    'firstname': 'Jake',\n",
        "    'lastname': 'Sample',\n",
        "    'email': 'jakesample@email.com',\n",
        "    'age': 26,\n",
        "    'interests': ['Biking', 'Hiking'],\n",
        "    'address_id': js_address['_id'],\n",
        "    'workplace_id': js_workplace['_id']\n",
        "})"
      ]
    },
    {
      "cell_type": "code",
      "execution_count": null,
      "metadata": {
        "id": "Pd4O47y6EzYB",
        "outputId": "47196b32-20b5-48e9-ffcc-734c71492e1e"
      },
      "outputs": [
        {
          "data": {
            "text/html": [
              "<div>\n",
              "<style scoped>\n",
              "    .dataframe tbody tr th:only-of-type {\n",
              "        vertical-align: middle;\n",
              "    }\n",
              "\n",
              "    .dataframe tbody tr th {\n",
              "        vertical-align: top;\n",
              "    }\n",
              "\n",
              "    .dataframe thead th {\n",
              "        text-align: right;\n",
              "    }\n",
              "</style>\n",
              "<table border=\"1\" class=\"dataframe\">\n",
              "  <thead>\n",
              "    <tr style=\"text-align: right;\">\n",
              "      <th></th>\n",
              "      <th>_id</th>\n",
              "      <th>firstname</th>\n",
              "      <th>lastname</th>\n",
              "      <th>email</th>\n",
              "      <th>age</th>\n",
              "      <th>interests</th>\n",
              "      <th>address_id</th>\n",
              "      <th>workplace_id</th>\n",
              "    </tr>\n",
              "  </thead>\n",
              "  <tbody>\n",
              "    <tr>\n",
              "      <th>0</th>\n",
              "      <td>6535c6f6bfa53713eba08739</td>\n",
              "      <td>Jake</td>\n",
              "      <td>Sample</td>\n",
              "      <td>jakesample@email.com</td>\n",
              "      <td>26</td>\n",
              "      <td>[Biking, Hiking]</td>\n",
              "      <td>91b5b7b3-2309-4e8a-8247-cd66d626ef0c</td>\n",
              "      <td>5345fcb9-6297-4b9f-aa15-cbee8460f28f</td>\n",
              "    </tr>\n",
              "  </tbody>\n",
              "</table>\n",
              "</div>"
            ],
            "text/plain": [
              "                        _id firstname lastname                 email  age  \\\n",
              "0  6535c6f6bfa53713eba08739      Jake   Sample  jakesample@email.com   26   \n",
              "\n",
              "          interests                            address_id  \\\n",
              "0  [Biking, Hiking]  91b5b7b3-2309-4e8a-8247-cd66d626ef0c   \n",
              "\n",
              "                           workplace_id  \n",
              "0  5345fcb9-6297-4b9f-aa15-cbee8460f28f  "
            ]
          },
          "execution_count": 9,
          "metadata": {},
          "output_type": "execute_result"
        }
      ],
      "source": [
        "js = db.employee.find({'firstname': 'Jake'})\n",
        "\n",
        "# display results in a dataframe so that we can display results in a pretty table\n",
        "pd.DataFrame(js)"
      ]
    },
    {
      "cell_type": "markdown",
      "metadata": {
        "id": "Bq6r7ffrvzvI"
      },
      "source": [
        "## Delete all employees that work for 'Great Plains Energy Inc.' and are greater than 46 years old and likes 'Tennis'. Once delete the employees verify the number of employees deleted."
      ]
    },
    {
      "cell_type": "code",
      "execution_count": null,
      "metadata": {
        "id": "xcw4NAEPEzYC",
        "outputId": "00285972-996b-4f7f-9b2a-0bb45352472b"
      },
      "outputs": [
        {
          "data": {
            "text/html": [
              "<div>\n",
              "<style scoped>\n",
              "    .dataframe tbody tr th:only-of-type {\n",
              "        vertical-align: middle;\n",
              "    }\n",
              "\n",
              "    .dataframe tbody tr th {\n",
              "        vertical-align: top;\n",
              "    }\n",
              "\n",
              "    .dataframe thead th {\n",
              "        text-align: right;\n",
              "    }\n",
              "</style>\n",
              "<table border=\"1\" class=\"dataframe\">\n",
              "  <thead>\n",
              "    <tr style=\"text-align: right;\">\n",
              "      <th></th>\n",
              "      <th>_id</th>\n",
              "      <th>firstname</th>\n",
              "      <th>lastname</th>\n",
              "      <th>age</th>\n",
              "      <th>email</th>\n",
              "      <th>interests</th>\n",
              "      <th>address_id</th>\n",
              "      <th>workplace_id</th>\n",
              "    </tr>\n",
              "  </thead>\n",
              "  <tbody>\n",
              "    <tr>\n",
              "      <th>0</th>\n",
              "      <td>153ba346-b33d-4611-802c-fd95c7cb078c</td>\n",
              "      <td>Adelaide</td>\n",
              "      <td>Curry</td>\n",
              "      <td>71</td>\n",
              "      <td>ov@sutec.mr</td>\n",
              "      <td>[Tennis]</td>\n",
              "      <td>8264af1e-1c55-4ed8-96f9-e3b9e1eff7d5</td>\n",
              "      <td>a32bf18d-e0e5-48f2-a851-aa49c80f9460</td>\n",
              "    </tr>\n",
              "    <tr>\n",
              "      <th>1</th>\n",
              "      <td>8e082f05-13b7-485d-89c4-259f1103f95c</td>\n",
              "      <td>Lester</td>\n",
              "      <td>Summers</td>\n",
              "      <td>48</td>\n",
              "      <td>wi@uvafej.pt</td>\n",
              "      <td>[Bowling, Tennis]</td>\n",
              "      <td>62996de2-fcda-4894-95d5-fef0d11d92f4</td>\n",
              "      <td>a32bf18d-e0e5-48f2-a851-aa49c80f9460</td>\n",
              "    </tr>\n",
              "    <tr>\n",
              "      <th>2</th>\n",
              "      <td>dfce1d98-15f6-4b75-86f6-cd5d05cfdc04</td>\n",
              "      <td>Sadie</td>\n",
              "      <td>Park</td>\n",
              "      <td>80</td>\n",
              "      <td>vukhik@wejoce.nf</td>\n",
              "      <td>[Golf, Fishing, Bowling, Dancing, Cooking, Ten...</td>\n",
              "      <td>2987cea4-b71d-4338-b0ef-a9b5feb3a138</td>\n",
              "      <td>a32bf18d-e0e5-48f2-a851-aa49c80f9460</td>\n",
              "    </tr>\n",
              "    <tr>\n",
              "      <th>3</th>\n",
              "      <td>86417f71-18cd-41c5-ad01-24b31ff2074f</td>\n",
              "      <td>Lucy</td>\n",
              "      <td>May</td>\n",
              "      <td>65</td>\n",
              "      <td>bi@udtaofe.tj</td>\n",
              "      <td>[Tennis]</td>\n",
              "      <td>fe80c95a-a0e9-42c9-aa6a-56f27020842d</td>\n",
              "      <td>a32bf18d-e0e5-48f2-a851-aa49c80f9460</td>\n",
              "    </tr>\n",
              "  </tbody>\n",
              "</table>\n",
              "</div>"
            ],
            "text/plain": [
              "                                    _id firstname lastname  age  \\\n",
              "0  153ba346-b33d-4611-802c-fd95c7cb078c  Adelaide    Curry   71   \n",
              "1  8e082f05-13b7-485d-89c4-259f1103f95c    Lester  Summers   48   \n",
              "2  dfce1d98-15f6-4b75-86f6-cd5d05cfdc04     Sadie     Park   80   \n",
              "3  86417f71-18cd-41c5-ad01-24b31ff2074f      Lucy      May   65   \n",
              "\n",
              "              email                                          interests  \\\n",
              "0       ov@sutec.mr                                           [Tennis]   \n",
              "1      wi@uvafej.pt                                  [Bowling, Tennis]   \n",
              "2  vukhik@wejoce.nf  [Golf, Fishing, Bowling, Dancing, Cooking, Ten...   \n",
              "3     bi@udtaofe.tj                                           [Tennis]   \n",
              "\n",
              "                             address_id                          workplace_id  \n",
              "0  8264af1e-1c55-4ed8-96f9-e3b9e1eff7d5  a32bf18d-e0e5-48f2-a851-aa49c80f9460  \n",
              "1  62996de2-fcda-4894-95d5-fef0d11d92f4  a32bf18d-e0e5-48f2-a851-aa49c80f9460  \n",
              "2  2987cea4-b71d-4338-b0ef-a9b5feb3a138  a32bf18d-e0e5-48f2-a851-aa49c80f9460  \n",
              "3  fe80c95a-a0e9-42c9-aa6a-56f27020842d  a32bf18d-e0e5-48f2-a851-aa49c80f9460  "
            ]
          },
          "execution_count": 10,
          "metadata": {},
          "output_type": "execute_result"
        }
      ],
      "source": [
        "gpe_id = db.workplace.find_one({'name': 'Great Plains Energy Inc.'})['_id']\n",
        "gpe_id\n",
        "# List the data\n",
        "pd.DataFrame(list(db.employee.find({'workplace_id':gpe_id, 'age':{'$gt':46}, 'interests': 'Tennis'})))"
      ]
    },
    {
      "cell_type": "code",
      "execution_count": null,
      "metadata": {
        "id": "XtzUs6YDvzvJ"
      },
      "outputs": [],
      "source": [
        "# Delete\n",
        "delete_result = db.employee.delete_many({'workplace_id':gpe_id, 'age':{'$gt':46}, 'interests': 'Tennis'})"
      ]
    },
    {
      "cell_type": "code",
      "execution_count": null,
      "metadata": {
        "id": "TcBv2b1tEzYD",
        "outputId": "c7a646e7-622b-47eb-8b0f-4caa0ae6e548"
      },
      "outputs": [
        {
          "name": "stdout",
          "output_type": "stream",
          "text": [
            "Delete Acknowledged:True\n",
            "Delete Count:4\n"
          ]
        }
      ],
      "source": [
        "# Verify\n",
        "print(\"Delete Acknowledged:\" + str(delete_result.acknowledged))\n",
        "print(\"Delete Count:\" + str(delete_result.deleted_count))"
      ]
    },
    {
      "cell_type": "code",
      "execution_count": null,
      "metadata": {
        "id": "JN0Lkk48EzYD",
        "outputId": "2dd4a022-a82b-40f4-81f3-eababb74d7c8"
      },
      "outputs": [
        {
          "data": {
            "text/html": [
              "<div>\n",
              "<style scoped>\n",
              "    .dataframe tbody tr th:only-of-type {\n",
              "        vertical-align: middle;\n",
              "    }\n",
              "\n",
              "    .dataframe tbody tr th {\n",
              "        vertical-align: top;\n",
              "    }\n",
              "\n",
              "    .dataframe thead th {\n",
              "        text-align: right;\n",
              "    }\n",
              "</style>\n",
              "<table border=\"1\" class=\"dataframe\">\n",
              "  <thead>\n",
              "    <tr style=\"text-align: right;\">\n",
              "      <th></th>\n",
              "    </tr>\n",
              "  </thead>\n",
              "  <tbody>\n",
              "  </tbody>\n",
              "</table>\n",
              "</div>"
            ],
            "text/plain": [
              "Empty DataFrame\n",
              "Columns: []\n",
              "Index: []"
            ]
          },
          "execution_count": 13,
          "metadata": {},
          "output_type": "execute_result"
        }
      ],
      "source": [
        "# Check\n",
        "pd.DataFrame(list(db.employee.find({'workplace_id':gpe_id, 'age':{'$gt':46}, 'interests': 'Tennis'})))"
      ]
    },
    {
      "cell_type": "markdown",
      "metadata": {
        "id": "-yi0OsI0vzvQ"
      },
      "source": [
        "## Add a new field called 'industry' to all employees that work for 'Health Net Inc.' and populate the field with the value 'Health Care'.\n"
      ]
    },
    {
      "cell_type": "code",
      "execution_count": null,
      "metadata": {
        "id": "8-xzwA_6EzYE",
        "outputId": "78384554-aa2f-461e-c3c3-b06d066e0511"
      },
      "outputs": [
        {
          "data": {
            "text/plain": [
              "'a222385c-342c-43ea-adbc-9b487a2ee2be'"
            ]
          },
          "execution_count": 14,
          "metadata": {},
          "output_type": "execute_result"
        }
      ],
      "source": [
        "hn_id = db.workplace.find_one({'name': 'Health Net Inc.'})['_id']\n",
        "hn_id"
      ]
    },
    {
      "cell_type": "code",
      "execution_count": null,
      "metadata": {
        "id": "gWj7cut_vzvR"
      },
      "outputs": [],
      "source": [
        "update_result = db.employee.update_many(\n",
        "      { \"workplace_id\" : hn_id },\n",
        "      { \"$set\": { \"industry\" : \"Health Care\" } }\n",
        ");"
      ]
    },
    {
      "cell_type": "code",
      "execution_count": null,
      "metadata": {
        "id": "4S_VWva1EzYF",
        "outputId": "f61927f7-83f7-4a87-9534-a445599fe905"
      },
      "outputs": [
        {
          "name": "stdout",
          "output_type": "stream",
          "text": [
            "Update Acknowledged:True\n",
            "Modified Count:14\n"
          ]
        }
      ],
      "source": [
        "# Verify\n",
        "print(\"Update Acknowledged:\" + str(update_result.acknowledged))\n",
        "print(\"Modified Count:\" + str(update_result.modified_count))"
      ]
    },
    {
      "cell_type": "code",
      "execution_count": null,
      "metadata": {
        "id": "EyFtezolEzYF",
        "outputId": "63204db0-22c3-4ba1-b97e-eae49692b884"
      },
      "outputs": [
        {
          "data": {
            "text/html": [
              "<div>\n",
              "<style scoped>\n",
              "    .dataframe tbody tr th:only-of-type {\n",
              "        vertical-align: middle;\n",
              "    }\n",
              "\n",
              "    .dataframe tbody tr th {\n",
              "        vertical-align: top;\n",
              "    }\n",
              "\n",
              "    .dataframe thead th {\n",
              "        text-align: right;\n",
              "    }\n",
              "</style>\n",
              "<table border=\"1\" class=\"dataframe\">\n",
              "  <thead>\n",
              "    <tr style=\"text-align: right;\">\n",
              "      <th></th>\n",
              "      <th>_id</th>\n",
              "      <th>firstname</th>\n",
              "      <th>lastname</th>\n",
              "      <th>age</th>\n",
              "      <th>email</th>\n",
              "      <th>interests</th>\n",
              "      <th>address_id</th>\n",
              "      <th>workplace_id</th>\n",
              "      <th>industry</th>\n",
              "    </tr>\n",
              "  </thead>\n",
              "  <tbody>\n",
              "    <tr>\n",
              "      <th>0</th>\n",
              "      <td>ad4fd8bd-b732-4388-8469-5395b497df63</td>\n",
              "      <td>Marc</td>\n",
              "      <td>Castro</td>\n",
              "      <td>42</td>\n",
              "      <td>tasnimnag@tefifdum.bo</td>\n",
              "      <td>[Golf, Cricket, Rubgy, Hiking, Fishing, Dancing]</td>\n",
              "      <td>91b32548-65b6-4fd9-91a1-2d86b04b8eea</td>\n",
              "      <td>a222385c-342c-43ea-adbc-9b487a2ee2be</td>\n",
              "      <td>Health Care</td>\n",
              "    </tr>\n",
              "    <tr>\n",
              "      <th>1</th>\n",
              "      <td>6222b4f5-6fd3-4c72-b058-710fb568b869</td>\n",
              "      <td>Lucinda</td>\n",
              "      <td>Gomez</td>\n",
              "      <td>46</td>\n",
              "      <td>ruupeke@oh.om</td>\n",
              "      <td>[Golf, Rubgy, Tennis]</td>\n",
              "      <td>59516270-19f4-47e8-95ae-3e83fa5f230c</td>\n",
              "      <td>a222385c-342c-43ea-adbc-9b487a2ee2be</td>\n",
              "      <td>Health Care</td>\n",
              "    </tr>\n",
              "    <tr>\n",
              "      <th>2</th>\n",
              "      <td>ca189ae9-d04b-4ae0-9b4a-b725196c31d2</td>\n",
              "      <td>Emilie</td>\n",
              "      <td>Robertson</td>\n",
              "      <td>37</td>\n",
              "      <td>vom@calfim.se</td>\n",
              "      <td>[Hiking]</td>\n",
              "      <td>16ff1778-b687-42ef-aace-36cedc05f521</td>\n",
              "      <td>a222385c-342c-43ea-adbc-9b487a2ee2be</td>\n",
              "      <td>Health Care</td>\n",
              "    </tr>\n",
              "    <tr>\n",
              "      <th>3</th>\n",
              "      <td>ed499274-f17f-4a4c-8327-7e740e6dd9c1</td>\n",
              "      <td>Josephine</td>\n",
              "      <td>Mills</td>\n",
              "      <td>36</td>\n",
              "      <td>newi@to.in</td>\n",
              "      <td>[Tennis, Bowling, Cricket]</td>\n",
              "      <td>01185f9b-b00f-4f2d-9878-0c989fe00fbc</td>\n",
              "      <td>a222385c-342c-43ea-adbc-9b487a2ee2be</td>\n",
              "      <td>Health Care</td>\n",
              "    </tr>\n",
              "    <tr>\n",
              "      <th>4</th>\n",
              "      <td>6a3bd505-56e6-46ec-bef1-2eef1fd3643c</td>\n",
              "      <td>Vernon</td>\n",
              "      <td>Edwards</td>\n",
              "      <td>24</td>\n",
              "      <td>disbuivi@efu.id</td>\n",
              "      <td>[Soccer]</td>\n",
              "      <td>a8f07070-cfb0-483e-a07a-b2adf9e3d4b0</td>\n",
              "      <td>a222385c-342c-43ea-adbc-9b487a2ee2be</td>\n",
              "      <td>Health Care</td>\n",
              "    </tr>\n",
              "    <tr>\n",
              "      <th>5</th>\n",
              "      <td>5b8bb404-5741-46a9-84f2-81248ffd2840</td>\n",
              "      <td>Glen</td>\n",
              "      <td>Turner</td>\n",
              "      <td>43</td>\n",
              "      <td>kazvasi@nojrek.aq</td>\n",
              "      <td>[Golf, Hiking]</td>\n",
              "      <td>fc2b6b58-8392-4f3d-b1c8-07f4df87dc24</td>\n",
              "      <td>a222385c-342c-43ea-adbc-9b487a2ee2be</td>\n",
              "      <td>Health Care</td>\n",
              "    </tr>\n",
              "    <tr>\n",
              "      <th>6</th>\n",
              "      <td>c7cf8650-f391-4f2b-bbb5-60225729e998</td>\n",
              "      <td>Jeremiah</td>\n",
              "      <td>Payne</td>\n",
              "      <td>49</td>\n",
              "      <td>himosewej@repan.bw</td>\n",
              "      <td>[Cricket, Fishing]</td>\n",
              "      <td>44cc24b9-1d60-45cf-be0d-a225f35d52ab</td>\n",
              "      <td>a222385c-342c-43ea-adbc-9b487a2ee2be</td>\n",
              "      <td>Health Care</td>\n",
              "    </tr>\n",
              "    <tr>\n",
              "      <th>7</th>\n",
              "      <td>9ebcf9fc-e193-4ab7-9c38-10c2d6bf6036</td>\n",
              "      <td>Alan</td>\n",
              "      <td>Berry</td>\n",
              "      <td>76</td>\n",
              "      <td>zut@zoksa.kw</td>\n",
              "      <td>[Bowling, Cooking, Rubgy, Fishing, Golf, Cricket]</td>\n",
              "      <td>d34f9d8c-c1a0-4653-8a44-d2fe65714956</td>\n",
              "      <td>a222385c-342c-43ea-adbc-9b487a2ee2be</td>\n",
              "      <td>Health Care</td>\n",
              "    </tr>\n",
              "    <tr>\n",
              "      <th>8</th>\n",
              "      <td>fd677b4b-6eef-4777-bc3a-25d9a86134fa</td>\n",
              "      <td>Mattie</td>\n",
              "      <td>Fisher</td>\n",
              "      <td>37</td>\n",
              "      <td>pelohno@hotivgu.hn</td>\n",
              "      <td>[Cycling, Fishing, Soccer, Rubgy, Hiking]</td>\n",
              "      <td>98fa15f0-5b73-4fb9-a5a4-1332e0f5b58b</td>\n",
              "      <td>a222385c-342c-43ea-adbc-9b487a2ee2be</td>\n",
              "      <td>Health Care</td>\n",
              "    </tr>\n",
              "    <tr>\n",
              "      <th>9</th>\n",
              "      <td>cb369c19-4bbc-449f-bff6-b198439d0d7b</td>\n",
              "      <td>Adele</td>\n",
              "      <td>Benson</td>\n",
              "      <td>43</td>\n",
              "      <td>oka@lilozfaz.gn</td>\n",
              "      <td>[Swimming, Hiking, Tennis]</td>\n",
              "      <td>d5b7473d-c82b-4956-bce3-80497ce6c015</td>\n",
              "      <td>a222385c-342c-43ea-adbc-9b487a2ee2be</td>\n",
              "      <td>Health Care</td>\n",
              "    </tr>\n",
              "    <tr>\n",
              "      <th>10</th>\n",
              "      <td>8c4b8dc8-2ecc-46e8-8653-d126f1810c33</td>\n",
              "      <td>Cory</td>\n",
              "      <td>Beck</td>\n",
              "      <td>27</td>\n",
              "      <td>rekasbe@vewusezi.an</td>\n",
              "      <td>[Fishing, Cricket, Hiking]</td>\n",
              "      <td>592fa227-312d-4a80-8eb2-c4e26493da69</td>\n",
              "      <td>a222385c-342c-43ea-adbc-9b487a2ee2be</td>\n",
              "      <td>Health Care</td>\n",
              "    </tr>\n",
              "    <tr>\n",
              "      <th>11</th>\n",
              "      <td>9fd3a190-1991-4ce1-924b-de4701020022</td>\n",
              "      <td>Jacob</td>\n",
              "      <td>Austin</td>\n",
              "      <td>50</td>\n",
              "      <td>imnampe@ca.pt</td>\n",
              "      <td>[Dancing]</td>\n",
              "      <td>2d6b7fb9-fe27-4573-8ef6-56ba4b79e038</td>\n",
              "      <td>a222385c-342c-43ea-adbc-9b487a2ee2be</td>\n",
              "      <td>Health Care</td>\n",
              "    </tr>\n",
              "    <tr>\n",
              "      <th>12</th>\n",
              "      <td>c6d0eebd-ddf2-41ed-a20f-76274c5c8343</td>\n",
              "      <td>Tony</td>\n",
              "      <td>Paul</td>\n",
              "      <td>72</td>\n",
              "      <td>zolo@dacelva.dz</td>\n",
              "      <td>[Cooking, Rubgy]</td>\n",
              "      <td>68d28d57-8cac-4388-8485-976518a6d817</td>\n",
              "      <td>a222385c-342c-43ea-adbc-9b487a2ee2be</td>\n",
              "      <td>Health Care</td>\n",
              "    </tr>\n",
              "    <tr>\n",
              "      <th>13</th>\n",
              "      <td>e9e7ee3e-90da-4474-b6a7-f256e4915245</td>\n",
              "      <td>Jorge</td>\n",
              "      <td>Day</td>\n",
              "      <td>57</td>\n",
              "      <td>ar@gab.gov</td>\n",
              "      <td>[Cooking]</td>\n",
              "      <td>5bbc3eb4-01cf-43c2-85bd-346f786adfee</td>\n",
              "      <td>a222385c-342c-43ea-adbc-9b487a2ee2be</td>\n",
              "      <td>Health Care</td>\n",
              "    </tr>\n",
              "  </tbody>\n",
              "</table>\n",
              "</div>"
            ],
            "text/plain": [
              "                                     _id  firstname   lastname  age  \\\n",
              "0   ad4fd8bd-b732-4388-8469-5395b497df63       Marc     Castro   42   \n",
              "1   6222b4f5-6fd3-4c72-b058-710fb568b869    Lucinda      Gomez   46   \n",
              "2   ca189ae9-d04b-4ae0-9b4a-b725196c31d2     Emilie  Robertson   37   \n",
              "3   ed499274-f17f-4a4c-8327-7e740e6dd9c1  Josephine      Mills   36   \n",
              "4   6a3bd505-56e6-46ec-bef1-2eef1fd3643c     Vernon    Edwards   24   \n",
              "5   5b8bb404-5741-46a9-84f2-81248ffd2840       Glen     Turner   43   \n",
              "6   c7cf8650-f391-4f2b-bbb5-60225729e998   Jeremiah      Payne   49   \n",
              "7   9ebcf9fc-e193-4ab7-9c38-10c2d6bf6036       Alan      Berry   76   \n",
              "8   fd677b4b-6eef-4777-bc3a-25d9a86134fa     Mattie     Fisher   37   \n",
              "9   cb369c19-4bbc-449f-bff6-b198439d0d7b      Adele     Benson   43   \n",
              "10  8c4b8dc8-2ecc-46e8-8653-d126f1810c33       Cory       Beck   27   \n",
              "11  9fd3a190-1991-4ce1-924b-de4701020022      Jacob     Austin   50   \n",
              "12  c6d0eebd-ddf2-41ed-a20f-76274c5c8343       Tony       Paul   72   \n",
              "13  e9e7ee3e-90da-4474-b6a7-f256e4915245      Jorge        Day   57   \n",
              "\n",
              "                    email                                          interests  \\\n",
              "0   tasnimnag@tefifdum.bo   [Golf, Cricket, Rubgy, Hiking, Fishing, Dancing]   \n",
              "1           ruupeke@oh.om                              [Golf, Rubgy, Tennis]   \n",
              "2           vom@calfim.se                                           [Hiking]   \n",
              "3              newi@to.in                         [Tennis, Bowling, Cricket]   \n",
              "4         disbuivi@efu.id                                           [Soccer]   \n",
              "5       kazvasi@nojrek.aq                                     [Golf, Hiking]   \n",
              "6      himosewej@repan.bw                                 [Cricket, Fishing]   \n",
              "7            zut@zoksa.kw  [Bowling, Cooking, Rubgy, Fishing, Golf, Cricket]   \n",
              "8      pelohno@hotivgu.hn          [Cycling, Fishing, Soccer, Rubgy, Hiking]   \n",
              "9         oka@lilozfaz.gn                         [Swimming, Hiking, Tennis]   \n",
              "10    rekasbe@vewusezi.an                         [Fishing, Cricket, Hiking]   \n",
              "11          imnampe@ca.pt                                          [Dancing]   \n",
              "12        zolo@dacelva.dz                                   [Cooking, Rubgy]   \n",
              "13             ar@gab.gov                                          [Cooking]   \n",
              "\n",
              "                              address_id  \\\n",
              "0   91b32548-65b6-4fd9-91a1-2d86b04b8eea   \n",
              "1   59516270-19f4-47e8-95ae-3e83fa5f230c   \n",
              "2   16ff1778-b687-42ef-aace-36cedc05f521   \n",
              "3   01185f9b-b00f-4f2d-9878-0c989fe00fbc   \n",
              "4   a8f07070-cfb0-483e-a07a-b2adf9e3d4b0   \n",
              "5   fc2b6b58-8392-4f3d-b1c8-07f4df87dc24   \n",
              "6   44cc24b9-1d60-45cf-be0d-a225f35d52ab   \n",
              "7   d34f9d8c-c1a0-4653-8a44-d2fe65714956   \n",
              "8   98fa15f0-5b73-4fb9-a5a4-1332e0f5b58b   \n",
              "9   d5b7473d-c82b-4956-bce3-80497ce6c015   \n",
              "10  592fa227-312d-4a80-8eb2-c4e26493da69   \n",
              "11  2d6b7fb9-fe27-4573-8ef6-56ba4b79e038   \n",
              "12  68d28d57-8cac-4388-8485-976518a6d817   \n",
              "13  5bbc3eb4-01cf-43c2-85bd-346f786adfee   \n",
              "\n",
              "                            workplace_id     industry  \n",
              "0   a222385c-342c-43ea-adbc-9b487a2ee2be  Health Care  \n",
              "1   a222385c-342c-43ea-adbc-9b487a2ee2be  Health Care  \n",
              "2   a222385c-342c-43ea-adbc-9b487a2ee2be  Health Care  \n",
              "3   a222385c-342c-43ea-adbc-9b487a2ee2be  Health Care  \n",
              "4   a222385c-342c-43ea-adbc-9b487a2ee2be  Health Care  \n",
              "5   a222385c-342c-43ea-adbc-9b487a2ee2be  Health Care  \n",
              "6   a222385c-342c-43ea-adbc-9b487a2ee2be  Health Care  \n",
              "7   a222385c-342c-43ea-adbc-9b487a2ee2be  Health Care  \n",
              "8   a222385c-342c-43ea-adbc-9b487a2ee2be  Health Care  \n",
              "9   a222385c-342c-43ea-adbc-9b487a2ee2be  Health Care  \n",
              "10  a222385c-342c-43ea-adbc-9b487a2ee2be  Health Care  \n",
              "11  a222385c-342c-43ea-adbc-9b487a2ee2be  Health Care  \n",
              "12  a222385c-342c-43ea-adbc-9b487a2ee2be  Health Care  \n",
              "13  a222385c-342c-43ea-adbc-9b487a2ee2be  Health Care  "
            ]
          },
          "execution_count": 17,
          "metadata": {},
          "output_type": "execute_result"
        }
      ],
      "source": [
        "# List the modified data\n",
        "pd.DataFrame(list(db.employee.find({ \"workplace_id\" : hn_id })))"
      ]
    },
    {
      "cell_type": "markdown",
      "metadata": {
        "id": "AlvB2ficvzvW"
      },
      "source": [
        "## Create an aggregate query to count the number of employees for each company and sort the output from largest employee count to lowest employee count."
      ]
    },
    {
      "cell_type": "code",
      "execution_count": null,
      "metadata": {
        "id": "ajgvx8V5vzvW",
        "outputId": "f4dbb57e-3abb-418c-e2b5-45375967d43e"
      },
      "outputs": [
        {
          "data": {
            "text/html": [
              "<div>\n",
              "<style scoped>\n",
              "    .dataframe tbody tr th:only-of-type {\n",
              "        vertical-align: middle;\n",
              "    }\n",
              "\n",
              "    .dataframe tbody tr th {\n",
              "        vertical-align: top;\n",
              "    }\n",
              "\n",
              "    .dataframe thead th {\n",
              "        text-align: right;\n",
              "    }\n",
              "</style>\n",
              "<table border=\"1\" class=\"dataframe\">\n",
              "  <thead>\n",
              "    <tr style=\"text-align: right;\">\n",
              "      <th></th>\n",
              "      <th>_id</th>\n",
              "      <th>count</th>\n",
              "    </tr>\n",
              "  </thead>\n",
              "  <tbody>\n",
              "    <tr>\n",
              "      <th>0</th>\n",
              "      <td>[Hilton Solutions]</td>\n",
              "      <td>15</td>\n",
              "    </tr>\n",
              "    <tr>\n",
              "      <th>1</th>\n",
              "      <td>[Health Net Inc.]</td>\n",
              "      <td>14</td>\n",
              "    </tr>\n",
              "    <tr>\n",
              "      <th>2</th>\n",
              "      <td>[Aetna Inc.]</td>\n",
              "      <td>13</td>\n",
              "    </tr>\n",
              "    <tr>\n",
              "      <th>3</th>\n",
              "      <td>[Bell Microproducts Inc.]</td>\n",
              "      <td>11</td>\n",
              "    </tr>\n",
              "    <tr>\n",
              "      <th>4</th>\n",
              "      <td>[Union Planters Corp]</td>\n",
              "      <td>10</td>\n",
              "    </tr>\n",
              "    <tr>\n",
              "      <th>5</th>\n",
              "      <td>[Equity Office Properties Trust]</td>\n",
              "      <td>10</td>\n",
              "    </tr>\n",
              "    <tr>\n",
              "      <th>6</th>\n",
              "      <td>[Equity Residential Properties Trust]</td>\n",
              "      <td>7</td>\n",
              "    </tr>\n",
              "    <tr>\n",
              "      <th>7</th>\n",
              "      <td>[Xcel Bear Inc]</td>\n",
              "      <td>6</td>\n",
              "    </tr>\n",
              "    <tr>\n",
              "      <th>8</th>\n",
              "      <td>[Kemet Corp.]</td>\n",
              "      <td>6</td>\n",
              "    </tr>\n",
              "    <tr>\n",
              "      <th>9</th>\n",
              "      <td>[Great Plains Energy Inc.]</td>\n",
              "      <td>5</td>\n",
              "    </tr>\n",
              "  </tbody>\n",
              "</table>\n",
              "</div>"
            ],
            "text/plain": [
              "                                     _id  count\n",
              "0                     [Hilton Solutions]     15\n",
              "1                      [Health Net Inc.]     14\n",
              "2                           [Aetna Inc.]     13\n",
              "3              [Bell Microproducts Inc.]     11\n",
              "4                  [Union Planters Corp]     10\n",
              "5       [Equity Office Properties Trust]     10\n",
              "6  [Equity Residential Properties Trust]      7\n",
              "7                        [Xcel Bear Inc]      6\n",
              "8                          [Kemet Corp.]      6\n",
              "9             [Great Plains Energy Inc.]      5"
            ]
          },
          "execution_count": 18,
          "metadata": {},
          "output_type": "execute_result"
        }
      ],
      "source": [
        "# YOUR CODE HERE\n",
        "pipeline = [\n",
        "    {\n",
        "        \"$lookup\": {\n",
        "            \"from\": \"workplace\",\n",
        "            \"localField\": \"workplace_id\",\n",
        "            \"foreignField\": \"_id\",\n",
        "            \"as\": \"workplace\"\n",
        "        }\n",
        "    },\n",
        "    {\n",
        "        \"$group\": {\n",
        "            \"_id\": \"$workplace.name\",\n",
        "            \"count\": {\"$sum\": 1}\n",
        "        }\n",
        "    },\n",
        "    {\n",
        "        \"$sort\": {\"count\": -1}\n",
        "    }\n",
        "]\n",
        "\n",
        "query_result = db.employee.aggregate(pipeline)\n",
        "\n",
        "pd.DataFrame(list(query_result))"
      ]
    }
  ],
  "metadata": {
    "colab": {
      "provenance": []
    },
    "kernelspec": {
      "display_name": "Python 3 (ipykernel)",
      "language": "python",
      "name": "python3"
    },
    "language_info": {
      "codemirror_mode": {
        "name": "ipython",
        "version": 3
      },
      "file_extension": ".py",
      "mimetype": "text/x-python",
      "name": "python",
      "nbconvert_exporter": "python",
      "pygments_lexer": "ipython3",
      "version": "3.9.13"
    }
  },
  "nbformat": 4,
  "nbformat_minor": 0
}